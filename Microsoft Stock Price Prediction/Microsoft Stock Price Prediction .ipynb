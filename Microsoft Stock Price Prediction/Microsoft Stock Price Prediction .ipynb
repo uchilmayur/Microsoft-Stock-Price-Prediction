{
 "cells": [
  {
   "cell_type": "markdown",
   "metadata": {},
   "source": [
    "Microsoft is today one of the largest technology companies with more than 163,000 employees worldwide. It is known for the Windows operating system which is one of the most popular computer operating systems. "
   ]
  },
  {
   "cell_type": "markdown",
   "metadata": {},
   "source": [
    "To get started with the task of forecasting the Microsoft stock prices, we first need to have a dataset. So, to get a dataset for this task, just follow the steps mentioned below:\n",
    "\n",
    "1. Visit Yahoo Finance\n",
    "2. Search for “MSFT”\n",
    "3. Click on “Historical Data”\n",
    "4. Click on “Download”\n",
    "\n",
    "After completing the steps mentioned above, we will find a dataset about the historical stock prices of Microsoft in our downloads folder. Now let’s get started with the task of predicting the stock prices of Microsoft by importing the necessary Python libraries and the dataset."
   ]
  },
  {
   "cell_type": "code",
   "execution_count": 1,
   "metadata": {},
   "outputs": [],
   "source": [
    "# Import all the necessary libraries\n",
    "import numpy as np\n",
    "import pandas as pd\n",
    "import matplotlib.pyplot as plt\n",
    "import seaborn as sns\n",
    "sns.set()\n",
    "plt.style.use('fivethirtyeight')"
   ]
  },
  {
   "cell_type": "code",
   "execution_count": 2,
   "metadata": {},
   "outputs": [
    {
     "data": {
      "text/html": [
       "<div>\n",
       "<style scoped>\n",
       "    .dataframe tbody tr th:only-of-type {\n",
       "        vertical-align: middle;\n",
       "    }\n",
       "\n",
       "    .dataframe tbody tr th {\n",
       "        vertical-align: top;\n",
       "    }\n",
       "\n",
       "    .dataframe thead th {\n",
       "        text-align: right;\n",
       "    }\n",
       "</style>\n",
       "<table border=\"1\" class=\"dataframe\">\n",
       "  <thead>\n",
       "    <tr style=\"text-align: right;\">\n",
       "      <th></th>\n",
       "      <th>Date</th>\n",
       "      <th>Open</th>\n",
       "      <th>High</th>\n",
       "      <th>Low</th>\n",
       "      <th>Close</th>\n",
       "      <th>Adj Close</th>\n",
       "      <th>Volume</th>\n",
       "    </tr>\n",
       "  </thead>\n",
       "  <tbody>\n",
       "    <tr>\n",
       "      <th>249</th>\n",
       "      <td>2022-04-14</td>\n",
       "      <td>288.089996</td>\n",
       "      <td>288.309998</td>\n",
       "      <td>279.320007</td>\n",
       "      <td>279.829987</td>\n",
       "      <td>279.829987</td>\n",
       "      <td>28107900</td>\n",
       "    </tr>\n",
       "    <tr>\n",
       "      <th>250</th>\n",
       "      <td>2022-04-18</td>\n",
       "      <td>278.910004</td>\n",
       "      <td>282.459991</td>\n",
       "      <td>278.339996</td>\n",
       "      <td>280.519989</td>\n",
       "      <td>280.519989</td>\n",
       "      <td>20778000</td>\n",
       "    </tr>\n",
       "    <tr>\n",
       "      <th>251</th>\n",
       "      <td>2022-04-19</td>\n",
       "      <td>279.380005</td>\n",
       "      <td>286.170013</td>\n",
       "      <td>278.410004</td>\n",
       "      <td>285.299988</td>\n",
       "      <td>285.299988</td>\n",
       "      <td>22297700</td>\n",
       "    </tr>\n",
       "    <tr>\n",
       "      <th>252</th>\n",
       "      <td>2022-04-20</td>\n",
       "      <td>289.399994</td>\n",
       "      <td>289.700012</td>\n",
       "      <td>285.369995</td>\n",
       "      <td>286.359985</td>\n",
       "      <td>286.359985</td>\n",
       "      <td>22874600</td>\n",
       "    </tr>\n",
       "    <tr>\n",
       "      <th>253</th>\n",
       "      <td>2022-04-21</td>\n",
       "      <td>288.579987</td>\n",
       "      <td>293.299988</td>\n",
       "      <td>288.450012</td>\n",
       "      <td>289.470001</td>\n",
       "      <td>289.470001</td>\n",
       "      <td>8304736</td>\n",
       "    </tr>\n",
       "  </tbody>\n",
       "</table>\n",
       "</div>"
      ],
      "text/plain": [
       "           Date        Open        High         Low       Close   Adj Close  \\\n",
       "249  2022-04-14  288.089996  288.309998  279.320007  279.829987  279.829987   \n",
       "250  2022-04-18  278.910004  282.459991  278.339996  280.519989  280.519989   \n",
       "251  2022-04-19  279.380005  286.170013  278.410004  285.299988  285.299988   \n",
       "252  2022-04-20  289.399994  289.700012  285.369995  286.359985  286.359985   \n",
       "253  2022-04-21  288.579987  293.299988  288.450012  289.470001  289.470001   \n",
       "\n",
       "       Volume  \n",
       "249  28107900  \n",
       "250  20778000  \n",
       "251  22297700  \n",
       "252  22874600  \n",
       "253   8304736  "
      ]
     },
     "execution_count": 2,
     "metadata": {},
     "output_type": "execute_result"
    }
   ],
   "source": [
    "# Read the given dataset & display it's content\n",
    "data = pd.read_csv(r\"D:\\Microsoft Stock Price Prediction\\MSFT_1.csv\")\n",
    "data.tail()"
   ]
  },
  {
   "cell_type": "markdown",
   "metadata": {},
   "source": [
    "In this dataset, the Close column contains the values whose future values we want to predict. So let’s have a closer look at the historical close prices of Microsoft’s stock price:"
   ]
  },
  {
   "cell_type": "code",
   "execution_count": 3,
   "metadata": {},
   "outputs": [
    {
     "data": {
      "image/png": "[encoded data removed]",
      "text/plain": [
       "<Figure size 720x288 with 1 Axes>"
      ]
     },
     "metadata": {},
     "output_type": "display_data"
    }
   ],
   "source": [
    "plt.figure(figsize=(10, 4))\n",
    "plt.title(\"Microsoft Stock Prices\")\n",
    "plt.xlabel(\"Date\")\n",
    "plt.ylabel(\"Close\")\n",
    "plt.plot(data[\"Close\"])\n",
    "plt.show()"
   ]
  },
  {
   "cell_type": "code",
   "execution_count": 4,
   "metadata": {},
   "outputs": [
    {
     "name": "stdout",
     "output_type": "stream",
     "text": [
      "               Open      High       Low     Close  Adj Close    Volume\n",
      "Open       1.000000  0.995887  0.994261  0.988460   0.988547  0.093675\n",
      "High       0.995887  1.000000  0.993371  0.994477   0.994996  0.121734\n",
      "Low        0.994261  0.993371  1.000000  0.994294   0.993644  0.032728\n",
      "Close      0.988460  0.994477  0.994294  1.000000   0.999792  0.076802\n",
      "Adj Close  0.988547  0.994996  0.993644  0.999792   1.000000  0.083826\n",
      "Volume     0.093675  0.121734  0.032728  0.076802   0.083826  1.000000\n"
     ]
    },
    {
     "data": {
      "image/png": "[encoded data removed]",
      "text/plain": [
       "<Figure size 432x288 with 2 Axes>"
      ]
     },
     "metadata": {},
     "output_type": "display_data"
    }
   ],
   "source": [
    "# We will now  have a look at the correlation between the features of this dataset:\n",
    "\n",
    "print(data.corr())\n",
    "sns.heatmap(data.corr())\n",
    "plt.show()"
   ]
  },
  {
   "cell_type": "markdown",
   "metadata": {},
   "source": [
    "\n",
    "We will now prepare the data to fit into the machine learning model. In this step, we will first add the most important features to x and the target column to y, and then we will divide the dataset into training and test sets\n"
   ]
  },
  {
   "cell_type": "code",
   "execution_count": 5,
   "metadata": {},
   "outputs": [],
   "source": [
    "x = data[[\"Open\", \"High\", \"Low\"]]\n",
    "y = data[\"Close\"]\n",
    "x = x.to_numpy()\n",
    "y = y.to_numpy()\n",
    "y = y.reshape(-1, 1)"
   ]
  },
  {
   "cell_type": "code",
   "execution_count": 6,
   "metadata": {},
   "outputs": [
    {
     "data": {
      "text/plain": [
       "(254, 3)"
      ]
     },
     "execution_count": 6,
     "metadata": {},
     "output_type": "execute_result"
    }
   ],
   "source": [
    "# pandas.DataFrame.shape returns a tuple representing the dimensionality of the DataFrame\n",
    "# It basically gives the number of rows & columns.\n",
    "\n",
    "x.shape"
   ]
  },
  {
   "cell_type": "code",
   "execution_count": 7,
   "metadata": {},
   "outputs": [
    {
     "data": {
      "text/plain": [
       "(254, 1)"
      ]
     },
     "execution_count": 7,
     "metadata": {},
     "output_type": "execute_result"
    }
   ],
   "source": [
    "y.shape"
   ]
  },
  {
   "cell_type": "code",
   "execution_count": 8,
   "metadata": {},
   "outputs": [],
   "source": [
    "from sklearn.model_selection import train_test_split\n",
    "xtrain, xtest, ytrain, ytest = train_test_split(x, y, test_size=0.2, random_state=42)"
   ]
  },
  {
   "cell_type": "markdown",
   "metadata": {},
   "source": [
    "\n",
    "\n",
    "We will now use the Decision Tree Regression Algorithm to train the Microsoft Stock Price prediction model and have a look at the predicted stock prices for the next 5 days\n",
    "\n"
   ]
  },
  {
   "cell_type": "code",
   "execution_count": 9,
   "metadata": {},
   "outputs": [
    {
     "name": "stdout",
     "output_type": "stream",
     "text": [
      "   Predicted Rate\n",
      "0      301.880005\n",
      "1      249.309998\n",
      "2      289.519989\n",
      "3      302.010010\n",
      "4      289.519989\n"
     ]
    }
   ],
   "source": [
    "from sklearn.tree import DecisionTreeRegressor\n",
    "model = DecisionTreeRegressor()\n",
    "model.fit(xtrain, ytrain)\n",
    "ypred = model.predict(xtest)\n",
    "data = pd.DataFrame(data={\"Predicted Rate\": ypred})\n",
    "print(data.head())"
   ]
  },
  {
   "cell_type": "markdown",
   "metadata": {},
   "source": [
    "This is how we  predict the stock prices of Microsoft with Machine Learning by using the Python . Microsoft has once again garnered a lot of attention from the world with the release of Windows 11. So this is a good time to predict Microsoft’s stock price as it is getting a lot of attention"
   ]
  },
  {
   "cell_type": "code",
   "execution_count": null,
   "metadata": {},
   "outputs": [],
   "source": []
  }
 ],
 "metadata": {
  "kernelspec": {
   "display_name": "Python 3",
   "language": "python",
   "name": "python3"
  },
  "language_info": {
   "codemirror_mode": {
    "name": "ipython",
    "version": 3
   },
   "file_extension": ".py",
   "mimetype": "text/x-python",
   "name": "python",
   "nbconvert_exporter": "python",
   "pygments_lexer": "ipython3",
   "version": "3.8.5"
  }
 },
 "nbformat": 4,
 "nbformat_minor": 4
}
